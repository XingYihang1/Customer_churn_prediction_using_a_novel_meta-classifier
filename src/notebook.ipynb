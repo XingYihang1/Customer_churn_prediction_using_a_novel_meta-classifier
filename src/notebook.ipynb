{
 "cells": [
  {
   "cell_type": "markdown",
   "id": "66fe6f01",
   "metadata": {},
   "source": [
    "复现论文：Customer churn prediction using a novel meta-classifier: an investigation on transaction, Telecommunication and customer churn datasets"
   ]
  },
  {
   "cell_type": "code",
   "execution_count": 6,
   "id": "569c79c4",
   "metadata": {},
   "outputs": [],
   "source": [
    "# 导入依赖包\n",
    "import pandas as pd\n",
    "from sklearn.preprocessing import StandardScaler, LabelEncoder\n",
    "import matplotlib.pyplot as plt\n",
    "import seaborn as sns\n",
    "from imblearn.combine import SMOTEENN\n",
    "from sklearn.model_selection import train_test_split\n",
    "from sklearn.inspection import permutation_importance\n",
    "from sklearn.feature_selection import SelectKBest, f_classif\n",
    "from sklearn.model_selection import GridSearchCV\n",
    "from skopt import BayesSearchCV\n",
    "from sklearn.pipeline import Pipeline\n",
    "from sklearn.model_selection import StratifiedKFold"
   ]
  },
  {
   "cell_type": "markdown",
   "id": "089883df",
   "metadata": {},
   "source": [
    "### 一、观察数据"
   ]
  },
  {
   "cell_type": "markdown",
   "id": "c0ab4ea5",
   "metadata": {},
   "source": [
    "#### 1.交易数据集(transaction dataset)"
   ]
  },
  {
   "cell_type": "code",
   "execution_count": 1,
   "id": "e650412d",
   "metadata": {},
   "outputs": [
    {
     "ename": "NameError",
     "evalue": "name 'pd' is not defined",
     "output_type": "error",
     "traceback": [
      "\u001b[0;31m---------------------------------------------------------------------------\u001b[0m",
      "\u001b[0;31mNameError\u001b[0m                                 Traceback (most recent call last)",
      "Cell \u001b[0;32mIn[1], line 1\u001b[0m\n\u001b[0;32m----> 1\u001b[0m transaction_data \u001b[38;5;241m=\u001b[39m \u001b[43mpd\u001b[49m\u001b[38;5;241m.\u001b[39mread_csv(\u001b[38;5;124m'\u001b[39m\u001b[38;5;124m../data/transaction.csv\u001b[39m\u001b[38;5;124m'\u001b[39m)\n\u001b[1;32m      2\u001b[0m \u001b[38;5;66;03m# 查看数据集的基本信息\u001b[39;00m\n\u001b[1;32m      3\u001b[0m \u001b[38;5;28mprint\u001b[39m(transaction_data\u001b[38;5;241m.\u001b[39minfo())\n",
      "\u001b[0;31mNameError\u001b[0m: name 'pd' is not defined"
     ]
    }
   ],
   "source": [
    "transaction_data = pd.read_csv('../data/transaction.csv')\n",
    "# 查看数据集的基本信息\n",
    "print(transaction_data.info())"
   ]
  },
  {
   "cell_type": "code",
   "execution_count": null,
   "id": "2e882b51",
   "metadata": {},
   "outputs": [
    {
     "name": "stdout",
     "output_type": "stream",
     "text": [
      "         RowNumber    CustomerId   CreditScore           Age        Tenure  \\\n",
      "count  10000.00000  1.000000e+04  10000.000000  10000.000000  10000.000000   \n",
      "mean    5000.50000  1.569094e+07    650.528800     38.921800      5.012800   \n",
      "std     2886.89568  7.193619e+04     96.653299     10.487806      2.892174   \n",
      "min        1.00000  1.556570e+07    350.000000     18.000000      0.000000   \n",
      "25%     2500.75000  1.562853e+07    584.000000     32.000000      3.000000   \n",
      "50%     5000.50000  1.569074e+07    652.000000     37.000000      5.000000   \n",
      "75%     7500.25000  1.575323e+07    718.000000     44.000000      7.000000   \n",
      "max    10000.00000  1.581569e+07    850.000000     92.000000     10.000000   \n",
      "\n",
      "             Balance  NumOfProducts    HasCrCard  IsActiveMember  \\\n",
      "count   10000.000000   10000.000000  10000.00000    10000.000000   \n",
      "mean    76485.889288       1.530200      0.70550        0.515100   \n",
      "std     62397.405202       0.581654      0.45584        0.499797   \n",
      "min         0.000000       1.000000      0.00000        0.000000   \n",
      "25%         0.000000       1.000000      0.00000        0.000000   \n",
      "50%     97198.540000       1.000000      1.00000        1.000000   \n",
      "75%    127644.240000       2.000000      1.00000        1.000000   \n",
      "max    250898.090000       4.000000      1.00000        1.000000   \n",
      "\n",
      "       EstimatedSalary        Exited  \n",
      "count     10000.000000  10000.000000  \n",
      "mean     100090.239881      0.203700  \n",
      "std       57510.492818      0.402769  \n",
      "min          11.580000      0.000000  \n",
      "25%       51002.110000      0.000000  \n",
      "50%      100193.915000      0.000000  \n",
      "75%      149388.247500      0.000000  \n",
      "max      199992.480000      1.000000  \n"
     ]
    }
   ],
   "source": [
    "print(transaction_data.describe())"
   ]
  },
  {
   "cell_type": "markdown",
   "id": "77ace496",
   "metadata": {},
   "source": [
    "观察发现，transaction数据集10000条记录，14个特征，且每个特征都是不含缺失值。只有Surname\\Geography\\Gender是类别变量，其余都是数值型变量。"
   ]
  },
  {
   "cell_type": "markdown",
   "id": "5ce95b28",
   "metadata": {},
   "source": [
    "论文中对一些特征做出了解释：\n",
    "\n",
    "(1)CreditScore特征取值范围在350-800之间，且取值都为整数。它表示贷款人对借款人在指定时间内还款的可能性的评估，得分越高的候选人越可能获得较低的贷款利率\n",
    "\n",
    "(2)Tenure特征表示任期，反映了客户继续订阅银行的持续时间\n",
    "\n",
    "(3)Balance特征表示余额，反映客户的资金总量\n",
    "\n",
    "(4)NumOfProducts特征表示客户购买银行产品的数量\n",
    "\n",
    "(5)HasCrCard特征是一个二元变量，表示客户是否拥有信用卡\n",
    "\n",
    "(6)IsActiveMember特征是一个二元变量，表示是否是活跃客户\n",
    "\n",
    "(7)EstimatedSalary特征表示对客户收入的预估\n"
   ]
  },
  {
   "cell_type": "markdown",
   "id": "7e02642d",
   "metadata": {},
   "source": [
    "**注意，Exited特征是交易数据集的标签！**"
   ]
  },
  {
   "cell_type": "code",
   "execution_count": null,
   "id": "c67afc9c",
   "metadata": {},
   "outputs": [
    {
     "data": {
      "text/plain": [
       "Exited\n",
       "0    7963\n",
       "1    2037\n",
       "Name: count, dtype: int64"
      ]
     },
     "execution_count": 42,
     "metadata": {},
     "output_type": "execute_result"
    }
   ],
   "source": [
    "transaction_data[\"Exited\"].value_counts()"
   ]
  },
  {
   "cell_type": "markdown",
   "id": "bc548fd6",
   "metadata": {},
   "source": [
    "可以看到我们的标签变量是类别不平衡的，0表示未放弃银行服务的，1表示放弃银行服务的。"
   ]
  },
  {
   "cell_type": "markdown",
   "id": "6879fa0d",
   "metadata": {},
   "source": [
    "#### 2.电信数据集(Telecommunication dataset)"
   ]
  },
  {
   "cell_type": "code",
   "execution_count": null,
   "id": "be7cbaf9",
   "metadata": {},
   "outputs": [],
   "source": [
    "telecom_data = pd.read_csv('../data/telecommunication.csv')"
   ]
  },
  {
   "cell_type": "code",
   "execution_count": null,
   "id": "49c6c14f",
   "metadata": {},
   "outputs": [
    {
     "name": "stdout",
     "output_type": "stream",
     "text": [
      "<class 'pandas.core.frame.DataFrame'>\n",
      "RangeIndex: 7043 entries, 0 to 7042\n",
      "Data columns (total 21 columns):\n",
      " #   Column            Non-Null Count  Dtype  \n",
      "---  ------            --------------  -----  \n",
      " 0   customerID        7043 non-null   object \n",
      " 1   gender            7043 non-null   object \n",
      " 2   SeniorCitizen     7043 non-null   int64  \n",
      " 3   Partner           7043 non-null   object \n",
      " 4   Dependents        7043 non-null   object \n",
      " 5   tenure            7043 non-null   int64  \n",
      " 6   PhoneService      7043 non-null   object \n",
      " 7   MultipleLines     7043 non-null   object \n",
      " 8   InternetService   7043 non-null   object \n",
      " 9   OnlineSecurity    7043 non-null   object \n",
      " 10  OnlineBackup      7043 non-null   object \n",
      " 11  DeviceProtection  7043 non-null   object \n",
      " 12  TechSupport       7043 non-null   object \n",
      " 13  StreamingTV       7043 non-null   object \n",
      " 14  StreamingMovies   7043 non-null   object \n",
      " 15  Contract          7043 non-null   object \n",
      " 16  PaperlessBilling  7043 non-null   object \n",
      " 17  PaymentMethod     7043 non-null   object \n",
      " 18  MonthlyCharges    7043 non-null   float64\n",
      " 19  TotalCharges      7043 non-null   object \n",
      " 20  Churn             7043 non-null   object \n",
      "dtypes: float64(1), int64(2), object(18)\n",
      "memory usage: 1.1+ MB\n",
      "None\n"
     ]
    }
   ],
   "source": [
    "print(telecom_data.info())"
   ]
  },
  {
   "cell_type": "code",
   "execution_count": null,
   "id": "f7d72a47",
   "metadata": {},
   "outputs": [
    {
     "name": "stdout",
     "output_type": "stream",
     "text": [
      "       SeniorCitizen       tenure  MonthlyCharges\n",
      "count    7043.000000  7043.000000     7043.000000\n",
      "mean        0.162147    32.371149       64.761692\n",
      "std         0.368612    24.559481       30.090047\n",
      "min         0.000000     0.000000       18.250000\n",
      "25%         0.000000     9.000000       35.500000\n",
      "50%         0.000000    29.000000       70.350000\n",
      "75%         0.000000    55.000000       89.850000\n",
      "max         1.000000    72.000000      118.750000\n"
     ]
    }
   ],
   "source": [
    "print(telecom_data.describe())"
   ]
  },
  {
   "cell_type": "markdown",
   "id": "86cba8f1",
   "metadata": {},
   "source": [
    "电信数据集共有7043条数据，21个特征。其中除了SeniorCitizen\\tenure\\MonthlyCharges为数值型变量，其余全为类别变量。"
   ]
  },
  {
   "cell_type": "markdown",
   "id": "c550b9d0",
   "metadata": {},
   "source": [
    "论文中对这些特征的描述：\n",
    "\n",
    "“SeniorCitizen”表示客户是否为老年人\n",
    "\n",
    "“Partner”表示客户是否有合作伙伴\n",
    "\n",
    "“Dependents”表示客户是否有家属。此数据集包括每个客户已登记的服务\n",
    "\n",
    "“PhoneService”显示客户是否有电话服务\n",
    "\n",
    "“MultipleLines”显示客户是否有多条线路\n",
    "\n",
    "“InternetService”表示客户的互联网服务提供商\n",
    "\n",
    "“OnlineSecurity”指定客户是否有在线安全\n",
    "\n",
    "“OnlineBackup”确认客户是否有在线备份\n",
    "\n",
    "“DeviceProtection”确认客户是否有设备保护\n",
    "\n",
    "“TechSupport”确定客户是否有技术支持\n",
    "\n",
    "“StreamingTV”表示客户是否电视\n",
    "\n",
    "“StreamingMovies”引用客户是否有流电影。\n",
    "\n",
    "该数据集还包含客户帐户信息：\n",
    "\n",
    "“tenure”分配客户在公司的月数\n",
    "\n",
    "“Contract”分配客户的合同期限，例如每月，一年或两年\n",
    "\n",
    "“PaperlessBilling”推断客户是否选择了无纸化账单，而“PaymentMethod”指客户的付款方式，如电子支票、邮寄支票、银行转账或信用卡。\n",
    "\n",
    "“MonthlyCharges”指的是每月向客户收取的费用，而“TotalCharges”反映的是向客户收取的总费用。"
   ]
  },
  {
   "cell_type": "markdown",
   "id": "7c0b92e2",
   "metadata": {},
   "source": [
    "“Churn”是我们的标签，表示用户是否在上个月离开。"
   ]
  },
  {
   "cell_type": "code",
   "execution_count": null,
   "id": "f8cf7186",
   "metadata": {},
   "outputs": [
    {
     "data": {
      "text/plain": [
       "Churn\n",
       "No     5174\n",
       "Yes    1869\n",
       "Name: count, dtype: int64"
      ]
     },
     "execution_count": 46,
     "metadata": {},
     "output_type": "execute_result"
    }
   ],
   "source": [
    "telecom_data[\"Churn\"].value_counts()"
   ]
  },
  {
   "cell_type": "markdown",
   "id": "a91c02f4",
   "metadata": {},
   "source": [
    "未离开的用户有5174个，离开的用户有1869个，依旧是类别不平衡。"
   ]
  },
  {
   "cell_type": "markdown",
   "id": "8a9b6617",
   "metadata": {},
   "source": [
    "#### 3.客户流失数据集(Customer Chrun Dataset)"
   ]
  },
  {
   "cell_type": "code",
   "execution_count": null,
   "id": "ad839c3c",
   "metadata": {},
   "outputs": [],
   "source": [
    "customer_churn_data = pd.read_excel('../data/customer_churn.xlsx')"
   ]
  },
  {
   "cell_type": "code",
   "execution_count": null,
   "id": "33f3e6d1",
   "metadata": {},
   "outputs": [
    {
     "name": "stdout",
     "output_type": "stream",
     "text": [
      "<class 'pandas.core.frame.DataFrame'>\n",
      "RangeIndex: 100000 entries, 0 to 99999\n",
      "Data columns (total 9 columns):\n",
      " #   Column                      Non-Null Count   Dtype  \n",
      "---  ------                      --------------   -----  \n",
      " 0   CustomerID                  100000 non-null  int64  \n",
      " 1   Name                        100000 non-null  object \n",
      " 2   Age                         100000 non-null  int64  \n",
      " 3   Gender                      100000 non-null  object \n",
      " 4   Location                    100000 non-null  object \n",
      " 5   Subscription_Length_Months  100000 non-null  int64  \n",
      " 6   Monthly_Bill                100000 non-null  float64\n",
      " 7   Total_Usage_GB              100000 non-null  int64  \n",
      " 8   Churn                       100000 non-null  int64  \n",
      "dtypes: float64(1), int64(5), object(3)\n",
      "memory usage: 6.9+ MB\n",
      "None\n"
     ]
    }
   ],
   "source": [
    "print(customer_churn_data.info())"
   ]
  },
  {
   "cell_type": "code",
   "execution_count": null,
   "id": "2499c42d",
   "metadata": {},
   "outputs": [
    {
     "name": "stdout",
     "output_type": "stream",
     "text": [
      "          CustomerID            Age  Subscription_Length_Months  \\\n",
      "count  100000.000000  100000.000000               100000.000000   \n",
      "mean    50000.500000      44.027020                   12.490100   \n",
      "std     28867.657797      15.280283                    6.926461   \n",
      "min         1.000000      18.000000                    1.000000   \n",
      "25%     25000.750000      31.000000                    6.000000   \n",
      "50%     50000.500000      44.000000                   12.000000   \n",
      "75%     75000.250000      57.000000                   19.000000   \n",
      "max    100000.000000      70.000000                   24.000000   \n",
      "\n",
      "        Monthly_Bill  Total_Usage_GB          Churn  \n",
      "count  100000.000000   100000.000000  100000.000000  \n",
      "mean       65.053197      274.393650       0.497790  \n",
      "std        20.230696      130.463063       0.499998  \n",
      "min        30.000000       50.000000       0.000000  \n",
      "25%        47.540000      161.000000       0.000000  \n",
      "50%        65.010000      274.000000       0.000000  \n",
      "75%        82.640000      387.000000       1.000000  \n",
      "max       100.000000      500.000000       1.000000  \n"
     ]
    }
   ],
   "source": [
    "print(customer_churn_data.describe())"
   ]
  },
  {
   "cell_type": "markdown",
   "id": "6cbf3e66",
   "metadata": {},
   "source": [
    "客户流失数据集共有100000条数据和9个特征。"
   ]
  },
  {
   "cell_type": "markdown",
   "id": "230eca0a",
   "metadata": {},
   "source": [
    "论文对特征的描述：\n",
    "\n",
    "“Location”指定客户的地理位置，选项包括休斯顿、洛杉矶、迈阿密、芝加哥和纽约。\n",
    "\n",
    "“Subscription_Length_Months”表示客户已订阅的月数。\n",
    "\n",
    "“Monthly_Bill”反映客户的每月账单金额\n",
    "\n",
    "“Total_Usage_GB”定义以GB为单位的总使用量\n"
   ]
  },
  {
   "cell_type": "markdown",
   "id": "89704f68",
   "metadata": {},
   "source": [
    "“Churn”作为标签变量，表示客户是否流失。"
   ]
  },
  {
   "cell_type": "code",
   "execution_count": null,
   "id": "967bfd6d",
   "metadata": {},
   "outputs": [
    {
     "data": {
      "text/plain": [
       "Churn\n",
       "0    50221\n",
       "1    49779\n",
       "Name: count, dtype: int64"
      ]
     },
     "execution_count": 50,
     "metadata": {},
     "output_type": "execute_result"
    }
   ],
   "source": [
    "customer_churn_data[\"Churn\"].value_counts()"
   ]
  },
  {
   "cell_type": "markdown",
   "id": "20cd45b4",
   "metadata": {},
   "source": [
    "Chrun这个标签的两类基本上是平衡的。"
   ]
  },
  {
   "cell_type": "markdown",
   "id": "41872860",
   "metadata": {},
   "source": [
    "### 二、数据预处理"
   ]
  },
  {
   "cell_type": "markdown",
   "id": "f1de2248",
   "metadata": {},
   "source": [
    "论文的清理过程：为了预处理数据，我们开始进行数据清理。这涉及进行探索性数据分析（EDA），以确保所有要素都具有正确的数据类型，处理缺失值，从数据集中消除重复记录和离群值，并检查罕见类别。"
   ]
  },
  {
   "cell_type": "code",
   "execution_count": 2,
   "id": "dcc8a5a8",
   "metadata": {},
   "outputs": [
    {
     "ename": "NameError",
     "evalue": "name 'transaction_data' is not defined",
     "output_type": "error",
     "traceback": [
      "\u001b[0;31m---------------------------------------------------------------------------\u001b[0m",
      "\u001b[0;31mNameError\u001b[0m                                 Traceback (most recent call last)",
      "Cell \u001b[0;32mIn[2], line 2\u001b[0m\n\u001b[1;32m      1\u001b[0m \u001b[38;5;66;03m# 首先删除诸如客户id、姓名这些对预测没有帮助的特征\u001b[39;00m\n\u001b[0;32m----> 2\u001b[0m transaction_data \u001b[38;5;241m=\u001b[39m \u001b[43mtransaction_data\u001b[49m\u001b[38;5;241m.\u001b[39mdrop(columns\u001b[38;5;241m=\u001b[39m[\u001b[38;5;124m'\u001b[39m\u001b[38;5;124mRowNumber\u001b[39m\u001b[38;5;124m'\u001b[39m,\u001b[38;5;124m'\u001b[39m\u001b[38;5;124mCustomerId\u001b[39m\u001b[38;5;124m'\u001b[39m, \u001b[38;5;124m'\u001b[39m\u001b[38;5;124mSurname\u001b[39m\u001b[38;5;124m'\u001b[39m])\n\u001b[1;32m      3\u001b[0m telecom_data \u001b[38;5;241m=\u001b[39m telecom_data\u001b[38;5;241m.\u001b[39mdrop(columns\u001b[38;5;241m=\u001b[39m[\u001b[38;5;124m'\u001b[39m\u001b[38;5;124mcustomerID\u001b[39m\u001b[38;5;124m'\u001b[39m])\n\u001b[1;32m      4\u001b[0m customer_churn_data \u001b[38;5;241m=\u001b[39m customer_churn_data\u001b[38;5;241m.\u001b[39mdrop(columns\u001b[38;5;241m=\u001b[39m[\u001b[38;5;124m'\u001b[39m\u001b[38;5;124mCustomerID\u001b[39m\u001b[38;5;124m'\u001b[39m, \u001b[38;5;124m'\u001b[39m\u001b[38;5;124mName\u001b[39m\u001b[38;5;124m'\u001b[39m])\n",
      "\u001b[0;31mNameError\u001b[0m: name 'transaction_data' is not defined"
     ]
    }
   ],
   "source": [
    "# 首先删除诸如客户id、姓名这些对预测没有帮助的特征\n",
    "transaction_data = transaction_data.drop(columns=['RowNumber','CustomerId', 'Surname'])\n",
    "telecom_data = telecom_data.drop(columns=['customerID'])\n",
    "customer_churn_data = customer_churn_data.drop(columns=['CustomerID', 'Name'])"
   ]
  },
  {
   "cell_type": "markdown",
   "id": "6031e3ae",
   "metadata": {},
   "source": [
    "#### 1.缺失值处理并检查各个特征是否都具有正确的类别"
   ]
  },
  {
   "cell_type": "code",
   "execution_count": null,
   "id": "e77db4ee",
   "metadata": {},
   "outputs": [
    {
     "name": "stdout",
     "output_type": "stream",
     "text": [
      "CreditScore        0\n",
      "Geography          0\n",
      "Gender             0\n",
      "Age                0\n",
      "Tenure             0\n",
      "Balance            0\n",
      "NumOfProducts      0\n",
      "HasCrCard          0\n",
      "IsActiveMember     0\n",
      "EstimatedSalary    0\n",
      "Exited             0\n",
      "dtype: int64\n"
     ]
    }
   ],
   "source": [
    "# 交易数据集\n",
    "print(transaction_data.isnull().sum())"
   ]
  },
  {
   "cell_type": "markdown",
   "id": "6a75327a",
   "metadata": {},
   "source": [
    "交易数据无缺失值且各个特征的类型都正常"
   ]
  },
  {
   "cell_type": "code",
   "execution_count": null,
   "id": "49b01310",
   "metadata": {},
   "outputs": [],
   "source": [
    "# 电信数据集\n",
    "# TotalCharges按理来说应该是float类型，但实际是object类型，需要转换成float类型\n",
    "telecom_data['TotalCharges'] = pd.to_numeric(telecom_data['TotalCharges'], errors='coerce')\n"
   ]
  },
  {
   "cell_type": "code",
   "execution_count": null,
   "id": "8ded79f7",
   "metadata": {},
   "outputs": [
    {
     "name": "stdout",
     "output_type": "stream",
     "text": [
      "11\n"
     ]
    }
   ],
   "source": [
    "print(telecom_data['TotalCharges'].isnull().sum())"
   ]
  },
  {
   "cell_type": "markdown",
   "id": "e86ac360",
   "metadata": {},
   "source": [
    "TotalCharges有11个缺失值。"
   ]
  },
  {
   "cell_type": "markdown",
   "id": "412fffb7",
   "metadata": {},
   "source": [
    "我们使用该列的均值来填充这些缺失值"
   ]
  },
  {
   "cell_type": "code",
   "execution_count": null,
   "id": "65e62e22",
   "metadata": {},
   "outputs": [
    {
     "name": "stdout",
     "output_type": "stream",
     "text": [
      "0\n"
     ]
    }
   ],
   "source": [
    "telecom_data['TotalCharges'] = telecom_data['TotalCharges'].fillna(telecom_data['TotalCharges'].mean())\n",
    "print(telecom_data['TotalCharges'].isnull().sum())"
   ]
  },
  {
   "cell_type": "code",
   "execution_count": null,
   "id": "40aa3c13",
   "metadata": {},
   "outputs": [
    {
     "name": "stdout",
     "output_type": "stream",
     "text": [
      "Age                           0\n",
      "Gender                        0\n",
      "Location                      0\n",
      "Subscription_Length_Months    0\n",
      "Monthly_Bill                  0\n",
      "Total_Usage_GB                0\n",
      "Churn                         0\n",
      "dtype: int64\n"
     ]
    }
   ],
   "source": [
    "# 客户流失数据集\n",
    "print(customer_churn_data.isnull().sum())"
   ]
  },
  {
   "cell_type": "markdown",
   "id": "ff183fb4",
   "metadata": {},
   "source": [
    "客户数据也无缺失值"
   ]
  },
  {
   "cell_type": "markdown",
   "id": "fc8133bc",
   "metadata": {},
   "source": [
    "#### 2.删除重复值和离群值"
   ]
  },
  {
   "cell_type": "code",
   "execution_count": null,
   "id": "f8de91ca",
   "metadata": {},
   "outputs": [
    {
     "name": "stdout",
     "output_type": "stream",
     "text": [
      "交易数据集重复记录数量: 0\n",
      "电信数据集重复记录数量: 22\n",
      "客户流失数据集重复记录数量: 0\n"
     ]
    }
   ],
   "source": [
    "# 检查重复记录数量\n",
    "print(\"交易数据集重复记录数量:\", transaction_data.duplicated().sum())\n",
    "print(\"电信数据集重复记录数量:\", telecom_data.duplicated().sum())\n",
    "print(\"客户流失数据集重复记录数量:\", customer_churn_data.duplicated().sum())"
   ]
  },
  {
   "cell_type": "code",
   "execution_count": null,
   "id": "c31d0ef2",
   "metadata": {},
   "outputs": [
    {
     "name": "stdout",
     "output_type": "stream",
     "text": [
      "交易数据集重复记录数量: 0\n",
      "电信数据集重复记录数量: 0\n",
      "客户流失数据集重复记录数量: 0\n"
     ]
    }
   ],
   "source": [
    "# 删除重复记录\n",
    "transaction_data = transaction_data.drop_duplicates()\n",
    "telecom_data = telecom_data.drop_duplicates()\n",
    "customer_churn_data = customer_churn_data.drop_duplicates()\n",
    "\n",
    "# 再检查一遍\n",
    "print(\"交易数据集重复记录数量:\", transaction_data.duplicated().sum())\n",
    "print(\"电信数据集重复记录数量:\", telecom_data.duplicated().sum())\n",
    "print(\"客户流失数据集重复记录数量:\", customer_churn_data.duplicated().sum())"
   ]
  },
  {
   "cell_type": "code",
   "execution_count": null,
   "id": "8acf89ec",
   "metadata": {},
   "outputs": [],
   "source": [
    "# 我们使用IQR方法来检测离群值\n",
    "def remove_outliers_iqr(data, numerical_features):\n",
    "    # 隔离原始数据和处理后的数据\n",
    "    data_clean = data.copy()\n",
    "\n",
    "    for feature in numerical_features:\n",
    "        Q1 = data_clean[feature].quantile(0.25)\n",
    "        Q3 = data_clean[feature].quantile(0.75)\n",
    "        IQR = Q3 - Q1\n",
    "        lower_bound = Q1 - 1.5 * IQR\n",
    "        upper_bound = Q3 + 1.5 * IQR\n",
    "        data_clean = data_clean[(data_clean[feature] >= lower_bound) & (data_clean[feature] <= upper_bound)]\n",
    "    return data_clean"
   ]
  },
  {
   "cell_type": "code",
   "execution_count": null,
   "id": "2a59f5d5",
   "metadata": {},
   "outputs": [],
   "source": [
    "transaction_numerical_features = ['CreditScore', 'Tenure', 'Balance', 'NumOfProducts', 'EstimatedSalary', 'Age']\n",
    "telecom_numerical_features = ['tenure', 'MonthlyCharges', 'TotalCharges']\n",
    "customer_churn_numerical_features = [\"Age\", 'Subscription_Length_Months', 'Monthly_Bill', 'Total_Usage_GB']"
   ]
  },
  {
   "cell_type": "code",
   "execution_count": null,
   "id": "e5471b7e",
   "metadata": {},
   "outputs": [],
   "source": [
    "transaction_data_clean = remove_outliers_iqr(transaction_data, transaction_numerical_features)\n",
    "telecom_data_clean = remove_outliers_iqr(telecom_data, telecom_numerical_features)\n",
    "customer_churn_data_clean = remove_outliers_iqr(customer_churn_data, customer_churn_numerical_features)\n"
   ]
  },
  {
   "cell_type": "markdown",
   "id": "6ec7334f",
   "metadata": {},
   "source": [
    "#### 3.检查罕见类别"
   ]
  },
  {
   "cell_type": "markdown",
   "id": "f500342b",
   "metadata": {},
   "source": [
    "我们通过可视化的技术检查数据中是否存在罕见类别"
   ]
  },
  {
   "cell_type": "code",
   "execution_count": null,
   "id": "88ca10ab",
   "metadata": {},
   "outputs": [],
   "source": [
    "# 交易数据集的类别变量\n",
    "transaction_categorical_features = ['Geography', 'Gender']\n",
    "\n",
    "# 电信数据集的类别变量\n",
    "telecom_categorical_features = ['gender', 'Partner', 'Dependents', 'PhoneService', \n",
    "                                'MultipleLines', 'InternetService', 'OnlineSecurity', \n",
    "                                'OnlineBackup', 'DeviceProtection', 'TechSupport', \n",
    "                                'StreamingTV', 'StreamingMovies', 'Contract', \n",
    "                                'PaperlessBilling', 'PaymentMethod','Churn']\n",
    "\n",
    "# 客户流失数据集的类别变量\n",
    "customer_churn_categorical_features = ['Gender','Location']"
   ]
  },
  {
   "cell_type": "code",
   "execution_count": null,
   "id": "8510c042",
   "metadata": {},
   "outputs": [],
   "source": [
    "# 可视化类别变量\n",
    "def visualize_categorical_features(data, categorical_features):\n",
    "    for feature in categorical_features:\n",
    "        num = len(data[feature].value_counts())  # 每个分类特征有多少个类别\n",
    "        plt.figure(figsize=(4, (num // 4) + 1))\n",
    "        sns.countplot(y=feature, data=data, order=data[feature].value_counts().index)\n",
    "        plt.title(f'{feature} Distribution')\n",
    "        plt.show()"
   ]
  },
  {
   "cell_type": "code",
   "execution_count": null,
   "id": "fb2842bd",
   "metadata": {},
   "outputs": [
    {
     "data": {
      "image/png": "[encoded data removed]",
      "text/plain": [
       "<Figure size 400x100 with 1 Axes>"
      ]
     },
     "metadata": {},
     "output_type": "display_data"
    },
    {
     "data": {
      "image/png": "[encoded data removed]",
      "text/plain": [
       "<Figure size 400x100 with 1 Axes>"
      ]
     },
     "metadata": {},
     "output_type": "display_data"
    }
   ],
   "source": [
    "# 检查交易数据集\n",
    "visualize_categorical_features(transaction_data, transaction_categorical_features)"
   ]
  },
  {
   "cell_type": "code",
   "execution_count": null,
   "id": "2136c864",
   "metadata": {},
   "outputs": [
    {
     "data": {
      "image/png": "[encoded data removed]",
      "text/plain": [
       "<Figure size 400x100 with 1 Axes>"
      ]
     },
     "metadata": {},
     "output_type": "display_data"
    },
    {
     "data": {
      "image/png": "[encoded data removed]",
      "text/plain": [
       "<Figure size 400x100 with 1 Axes>"
      ]
     },
     "metadata": {},
     "output_type": "display_data"
    },
    {
     "data": {
      "image/png": "[encoded data removed]",
      "text/plain": [
       "<Figure size 400x100 with 1 Axes>"
      ]
     },
     "metadata": {},
     "output_type": "display_data"
    },
    {
     "data": {
      "image/png": "[encoded data removed]",
      "text/plain": [
       "<Figure size 400x100 with 1 Axes>"
      ]
     },
     "metadata": {},
     "output_type": "display_data"
    },
    {
     "data": {
      "image/png": "[encoded data removed]",
      "text/plain": [
       "<Figure size 400x100 with 1 Axes>"
      ]
     },
     "metadata": {},
     "output_type": "display_data"
    },
    {
     "data": {
      "image/png": "[encoded data removed]",
      "text/plain": [
       "<Figure size 400x100 with 1 Axes>"
      ]
     },
     "metadata": {},
     "output_type": "display_data"
    },
    {
     "data": {
      "image/png": "[encoded data removed]",
      "text/plain": [
       "<Figure size 400x100 with 1 Axes>"
      ]
     },
     "metadata": {},
     "output_type": "display_data"
    },
    {
     "data": {
      "image/png": "[encoded data removed]",
      "text/plain": [
       "<Figure size 400x100 with 1 Axes>"
      ]
     },
     "metadata": {},
     "output_type": "display_data"
    },
    {
     "data": {
      "image/png": "[encoded data removed]",
      "text/plain": [
       "<Figure size 400x100 with 1 Axes>"
      ]
     },
     "metadata": {},
     "output_type": "display_data"
    },
    {
     "data": {
      "image/png": "[encoded data removed]",
      "text/plain": [
       "<Figure size 400x100 with 1 Axes>"
      ]
     },
     "metadata": {},
     "output_type": "display_data"
    },
    {
     "data": {
      "image/png": "[encoded data removed]",
      "text/plain": [
       "<Figure size 400x100 with 1 Axes>"
      ]
     },
     "metadata": {},
     "output_type": "display_data"
    },
    {
     "data": {
      "image/png": "[encoded data removed]",
      "text/plain": [
       "<Figure size 400x100 with 1 Axes>"
      ]
     },
     "metadata": {},
     "output_type": "display_data"
    },
    {
     "data": {
      "image/png": "[encoded data removed]",
      "text/plain": [
       "<Figure size 400x100 with 1 Axes>"
      ]
     },
     "metadata": {},
     "output_type": "display_data"
    },
    {
     "data": {
      "image/png": "[encoded data removed]",
      "text/plain": [
       "<Figure size 400x100 with 1 Axes>"
      ]
     },
     "metadata": {},
     "output_type": "display_data"
    },
    {
     "data": {
      "image/png": "[encoded data removed]",
      "text/plain": [
       "<Figure size 400x200 with 1 Axes>"
      ]
     },
     "metadata": {},
     "output_type": "display_data"
    },
    {
     "data": {
      "image/png": "[encoded data removed]",
      "text/plain": [
       "<Figure size 400x100 with 1 Axes>"
      ]
     },
     "metadata": {},
     "output_type": "display_data"
    }
   ],
   "source": [
    "# 检查电信数据集\n",
    "visualize_categorical_features(telecom_data, telecom_categorical_features)\n"
   ]
  },
  {
   "cell_type": "code",
   "execution_count": null,
   "id": "e9eed834",
   "metadata": {},
   "outputs": [
    {
     "data": {
      "image/png": "[encoded data removed]",
      "text/plain": [
       "<Figure size 400x100 with 1 Axes>"
      ]
     },
     "metadata": {},
     "output_type": "display_data"
    },
    {
     "data": {
      "image/png": "[encoded data removed]",
      "text/plain": [
       "<Figure size 400x200 with 1 Axes>"
      ]
     },
     "metadata": {},
     "output_type": "display_data"
    }
   ],
   "source": [
    "# 检查客户流失数据集\n",
    "visualize_categorical_features(customer_churn_data, customer_churn_categorical_features)"
   ]
  },
  {
   "cell_type": "markdown",
   "id": "bcea3a3a",
   "metadata": {},
   "source": [
    "以1%为阈值的话，其实这三个数据集中并没有罕见类别，不需要处理。"
   ]
  },
  {
   "cell_type": "markdown",
   "id": "334460b0",
   "metadata": {},
   "source": [
    "#### 4.将类别数据编码为数值"
   ]
  },
  {
   "cell_type": "markdown",
   "id": "24db9fb3",
   "metadata": {},
   "source": [
    "论文中统一使用LabelEncoder来对类别数据进行编码，但这实际会给这些类别一些顺序上的含义，对于地区等无序类别我们需要使用OneHotEncoder"
   ]
  },
  {
   "cell_type": "markdown",
   "id": "14ec37df",
   "metadata": {},
   "source": [
    "统筹考虑类别的顺序和独热编码可能导致的维度爆炸问题，我们对二元类别变量使用LabelEncoder，对于无序类别变量使用OneHotEncoder"
   ]
  },
  {
   "cell_type": "code",
   "execution_count": null,
   "id": "896dbc9a",
   "metadata": {},
   "outputs": [],
   "source": [
    "# 创建编码器\n",
    "# 论文中使用到的编码器\n",
    "def encoder_essay(data, categorical_features):\n",
    "    # 隔离开原始数据和编码后的数据\n",
    "    data_encoded = data.copy()\n",
    "\n",
    "    le = LabelEncoder()  # 将类别编码为0-n-1之间的数值\n",
    "    for category in categorical_features:\n",
    "        data_encoded[category] = le.fit_transform(data_encoded[category])\n",
    "    \n",
    "    return data_encoded\n",
    "\n",
    "# 改进编码器\n",
    "def encoder(data, categorical_features):\n",
    "    # 隔离开原始数据和编码后的数据\n",
    "    data_encoded = data.copy()\n",
    "\n",
    "    le = LabelEncoder()\n",
    "    for category in categorical_features:\n",
    "        if data_encoded[category].nunique() == 2:\n",
    "            data_encoded[category] = le.fit_transform(data_encoded[category])\n",
    "        else:\n",
    "            data_encoded = pd.concat([data_encoded, pd.get_dummies(data_encoded[category], dtype=int, prefix=category)], axis=1)\n",
    "            data_encoded.drop(category, axis=1, inplace=True)\n",
    "    return data_encoded"
   ]
  },
  {
   "cell_type": "code",
   "execution_count": null,
   "id": "4e8d8e67",
   "metadata": {},
   "outputs": [],
   "source": [
    "# 按照论文的方式编码\n",
    "transaction_data_essay = encoder_essay(transaction_data, transaction_categorical_features)\n",
    "telecom_data_essay = encoder_essay(telecom_data, telecom_categorical_features)\n",
    "customer_churn_data_essay = encoder_essay(customer_churn_data, customer_churn_categorical_features)\n",
    "\n",
    "# 按照改进的编码器编码\n",
    "transaction_data_encoder = encoder(transaction_data, transaction_categorical_features)  # 总共有13个特征\n",
    "telecom_data_encoder = encoder(telecom_data, telecom_categorical_features) #总共有42个特征\n",
    "customer_churn_data_encoder = encoder(customer_churn_data, customer_churn_categorical_features)  # 总共有11个特征"
   ]
  },
  {
   "cell_type": "code",
   "execution_count": null,
   "id": "78a0d5fc",
   "metadata": {},
   "outputs": [
    {
     "name": "stdout",
     "output_type": "stream",
     "text": [
      "True\n",
      "True\n",
      "True\n"
     ]
    }
   ],
   "source": [
    "# 现在应该所有的特征都是数值型特征了\n",
    "def check_data_type(data):\n",
    "    flag = True\n",
    "    for column in data.columns:\n",
    "        if data[column].dtype != 'float64' and data[column].dtype != 'int64':\n",
    "            flag = False\n",
    "            break\n",
    "    return flag\n",
    "print(check_data_type(transaction_data_encoder))\n",
    "print(check_data_type(telecom_data_encoder))\n",
    "print(check_data_type(customer_churn_data_encoder))\n"
   ]
  },
  {
   "cell_type": "markdown",
   "id": "48222877",
   "metadata": {},
   "source": [
    "#### 5.特征标准化"
   ]
  },
  {
   "cell_type": "markdown",
   "id": "9f855d10",
   "metadata": {},
   "source": [
    "排除不同特征的尺度对后续训练模型的影响。这里统一使用StandardScaler来进行标准化。（把所有数值型数据标准化为均值为0，标准差为1）"
   ]
  },
  {
   "cell_type": "code",
   "execution_count": null,
   "id": "0c9e429f",
   "metadata": {},
   "outputs": [],
   "source": [
    "def standardize_data(data, numerical_features):\n",
    "    # 隔离原始数据和标准化后的数据\n",
    "    data_standardized = data.copy()\n",
    "\n",
    "    scaler = StandardScaler()\n",
    "    for feature in numerical_features:\n",
    "        data_standardized[feature] = scaler.fit_transform(data_standardized[[feature]])\n",
    "    return data_standardized"
   ]
  },
  {
   "cell_type": "code",
   "execution_count": null,
   "id": "70f9fbe4",
   "metadata": {},
   "outputs": [
    {
     "name": "stdout",
     "output_type": "stream",
     "text": [
      "   CreditScore  Geography  Gender       Age    Tenure   Balance  \\\n",
      "0    -0.326221          0       0  0.293517 -1.041760 -1.225848   \n",
      "1    -0.440036          2       0  0.198164 -1.387538  0.117350   \n",
      "2    -1.536794          0       0  0.293517  1.032908  1.333053   \n",
      "3     0.501521          0       0  0.007457 -1.387538 -1.225848   \n",
      "4     2.063884          2       0  0.388871 -1.041760  0.785728   \n",
      "\n",
      "   NumOfProducts  HasCrCard  IsActiveMember  EstimatedSalary  Exited  \n",
      "0      -0.911583          1               1         0.021886       1  \n",
      "1      -0.911583          0               1         0.216534       0  \n",
      "2       2.527057          1               0         0.240687       1  \n",
      "3       0.807737          0               0        -0.108918       0  \n",
      "4      -0.911583          1               1        -0.365276       0  \n"
     ]
    }
   ],
   "source": [
    "# 使用论文编码器的数据\n",
    "transaction_data_essay_standardized = standardize_data(transaction_data_essay, transaction_numerical_features)\n",
    "telecom_data_essay_standardized = standardize_data(telecom_data_essay, telecom_numerical_features)\n",
    "customer_churn_data_essay_standardized = standardize_data(customer_churn_data_essay, customer_churn_numerical_features)\n",
    "\n",
    "# 使用改进编码器的数据\n",
    "transaction_data_encoder_standardized = standardize_data(transaction_data_encoder, transaction_numerical_features)\n",
    "telecom_data_encoder_standardized = standardize_data(telecom_data_encoder, telecom_numerical_features)\n",
    "customer_churn_data_encoder_standardized = standardize_data(customer_churn_data_encoder, customer_churn_numerical_features)\n",
    "\n",
    "# 检查标准化后的数据\n",
    "print(transaction_data_essay_standardized.head())"
   ]
  },
  {
   "cell_type": "markdown",
   "id": "ce2ec266",
   "metadata": {},
   "source": [
    "#### 6.类别不平衡的处理"
   ]
  },
  {
   "cell_type": "markdown",
   "id": "78aefc32",
   "metadata": {},
   "source": [
    "我们使用论文中提到的SMOTE-ENN(Synthetic Minority Oversampling Technique - Edited Nearest Neighbors)方法处理类别不平衡问题。"
   ]
  },
  {
   "cell_type": "markdown",
   "id": "8cddd52b",
   "metadata": {},
   "source": [
    "ENN是编辑的最邻近算法，它对于每一个样本点 x，找到它的 k 个最近邻（通常 k=3）。查看这 k 个邻居的标签，与样本 x 自己的标签进行比较。如果 x 的标签与它的多数邻居标签 不一致，则认为 x 可能是 噪声样本 或 边界样本，将其删除。"
   ]
  },
  {
   "cell_type": "markdown",
   "id": "b5d01d5a",
   "metadata": {},
   "source": [
    "Python中已经有库实现了SMOTE-ENN算法"
   ]
  },
  {
   "cell_type": "code",
   "execution_count": null,
   "id": "93d722e6",
   "metadata": {},
   "outputs": [],
   "source": [
    "# 到这里我们已经完成了划分训练集和测试集之前的所有步骤\n",
    "data_essay = {\"transaction\":transaction_data_essay_standardized, \n",
    "              \"telecom\":telecom_data_essay_standardized, \n",
    "              \"customer_churn\":customer_churn_data_essay_standardized}\n",
    "data_encoder = {\"transaction\":transaction_data_encoder_standardized, \n",
    "                \"telecom\":telecom_data_encoder_standardized, \n",
    "                \"customer_churn\":customer_churn_data_encoder_standardized}\n",
    "    "
   ]
  },
  {
   "cell_type": "code",
   "execution_count": null,
   "id": "d9937547",
   "metadata": {},
   "outputs": [],
   "source": [
    "# 处理类别不平衡的函数\n",
    "def handle_imbalance(X_train, y_train):\n",
    "    smote_enn = SMOTEENN()\n",
    "    X_resampled, y_resampled = smote_enn.fit_resample(X_train, y_train)\n",
    "    return X_resampled, y_resampled\n"
   ]
  },
  {
   "cell_type": "code",
   "execution_count": null,
   "id": "9a66d839",
   "metadata": {},
   "outputs": [],
   "source": [
    "# 数据加载函数\n",
    "def data_loader(datasets_dict, dataset_name, test_size=0.3, random_state=42):\n",
    "    '''\n",
    "    数据加载函数\n",
    "    参数：\n",
    "        datasets_dict: 数据集字典\n",
    "        dataset_name: 数据集名称:有['transaction', 'telecom', 'customer_churn']\n",
    "        test_size: 测试集的比例,默认为30%\n",
    "        random_state: 随机种子,默认为42\n",
    "    返回: \n",
    "        训练集(若是transaction则处理完类别不平衡后)和测试集的特征和标签,是一个四元组(X_train, X_test, y_train, y_test)\n",
    "    '''\n",
    "    if dataset_name == \"transaction\":\n",
    "        X = datasets_dict[dataset_name].drop(columns=['Exited'])\n",
    "        y = datasets_dict[dataset_name]['Exited']\n",
    "        # 划分数据集并处理类别不平衡\n",
    "        X_train, X_test, y_train, y_test = train_test_split(X, y, test_size=test_size, random_state=random_state)\n",
    "        X_train_resampled, y_train_resampled = handle_imbalance(X_train, y_train)\n",
    "        return X_train_resampled, X_test, y_train_resampled, y_test\n",
    "    elif dataset_name == \"telecom\":\n",
    "        X = datasets_dict[dataset_name].drop(columns=['Churn'])\n",
    "        y = datasets_dict[dataset_name]['Churn']\n",
    "        # 划分数据集\n",
    "        X_train, X_test, y_train, y_test = train_test_split(X, y, test_size=test_size, random_state=random_state)\n",
    "        return X_train, X_test, y_train, y_test\n",
    "    elif dataset_name == \"customer_churn\":\n",
    "        X = datasets_dict[dataset_name].drop(columns=['Churn'])\n",
    "        y = datasets_dict[dataset_name]['Churn']\n",
    "        # 划分数据集\n",
    "        X_train, X_test, y_train, y_test = train_test_split(X, y, test_size=test_size, random_state=random_state)\n",
    "        return X_train, X_test, y_train, y_test"
   ]
  },
  {
   "cell_type": "code",
   "execution_count": null,
   "id": "c866e35c",
   "metadata": {},
   "outputs": [
    {
     "name": "stderr",
     "output_type": "stream",
     "text": [
      "/opt/anaconda3/envs/data_mining/lib/python3.9/site-packages/sklearn/base.py:474: FutureWarning: `BaseEstimator._validate_data` is deprecated in 1.6 and will be removed in 1.7. Use `sklearn.utils.validation.validate_data` instead. This function becomes public and is part of the scikit-learn developer API.\n",
      "  warnings.warn(\n",
      "/opt/anaconda3/envs/data_mining/lib/python3.9/site-packages/sklearn/base.py:474: FutureWarning: `BaseEstimator._validate_data` is deprecated in 1.6 and will be removed in 1.7. Use `sklearn.utils.validation.validate_data` instead. This function becomes public and is part of the scikit-learn developer API.\n",
      "  warnings.warn(\n",
      "/opt/anaconda3/envs/data_mining/lib/python3.9/site-packages/sklearn/base.py:474: FutureWarning: `BaseEstimator._validate_data` is deprecated in 1.6 and will be removed in 1.7. Use `sklearn.utils.validation.validate_data` instead. This function becomes public and is part of the scikit-learn developer API.\n",
      "  warnings.warn(\n"
     ]
    },
    {
     "data": {
      "text/plain": [
       "Exited\n",
       "1    4877\n",
       "0    3600\n",
       "Name: count, dtype: int64"
      ]
     },
     "execution_count": 75,
     "metadata": {},
     "output_type": "execute_result"
    }
   ],
   "source": [
    "transaction_train, transaction_test, transaction_y_train, transaction_y_test = data_loader(data_encoder, \"transaction\")\n",
    "transaction_y_train.value_counts()"
   ]
  },
  {
   "cell_type": "markdown",
   "id": "6a6063eb",
   "metadata": {},
   "source": [
    "可以看到两个类别的数量没有差别太多"
   ]
  },
  {
   "cell_type": "markdown",
   "id": "9a16b607",
   "metadata": {},
   "source": [
    "### 三、特征选择"
   ]
  },
  {
   "cell_type": "markdown",
   "id": "c0fe10bd",
   "metadata": {},
   "source": [
    "论文中使用到了Permutation Feature Importance(PFS)和SelectKBest两种方法对特征进行筛选。"
   ]
  },
  {
   "cell_type": "markdown",
   "id": "b829aaac",
   "metadata": {},
   "source": [
    "#### 1.Permutation Feature Importance(PFS)"
   ]
  },
  {
   "cell_type": "markdown",
   "id": "008290ff",
   "metadata": {},
   "source": [
    "论文的思路：先不做特征选择训练一个基准的随机森林分类模型，再以该模型得出特征重要性。"
   ]
  },
  {
   "cell_type": "markdown",
   "id": "c311c5ff",
   "metadata": {},
   "source": [
    "**注意：PFS是一种有监督的依赖于训练好的模型的特征选择方法，因此PFS经常在超参数优化之后**"
   ]
  },
  {
   "cell_type": "code",
   "execution_count": 3,
   "id": "b64066a2",
   "metadata": {},
   "outputs": [],
   "source": [
    "def select_features_pfs(model, X_train, y_train, method = None, **kwargs):\n",
    "    '''\n",
    "    pfs特征选择函数\n",
    "    参数：\n",
    "        model: 训练好的模型\n",
    "        X_train: 训练集特征\n",
    "        y_train: 训练集标签\n",
    "        method: 特征选择方法，可选有'threshold','top_k','percentile','stable', 默认为None。\n",
    "        **kwargs: 对应每个方法的参数\n",
    "    返回：\n",
    "        method不为None时，返回(特征选择后的训练数据, 被选择的特征, 特征重要性排序）；\n",
    "        method为None时，返回特征重要性排序。\n",
    "    '''\n",
    "    # 计算特征重要性\n",
    "    perm_importance = permutation_importance(model, X_train, y_train, random_state=42)\n",
    "    feature_importance = pd.DataFrame({'feature':X_train.columns, \n",
    "                                        'importance':perm_importance.importances_mean,\n",
    "                                        'std':perm_importance.importances_std}).sort_values(by='importance', ascending=False)\n",
    "    # 根据method选择特征\n",
    "    if method == 'threshold':\n",
    "        threshold = kwargs.get('threshold', 0.01)\n",
    "        X_train_selected = feature_importance[feature_importance['importance'] > threshold]\n",
    "        feature_selected = X_train_selected['feature'].tolist()\n",
    "        return X_train_selected, feature_selected, feature_importance\n",
    "    elif method == 'top_k':\n",
    "        k = kwargs.get('k', 10)\n",
    "        X_train_selected = feature_importance.head(k)\n",
    "        feature_selected = X_train_selected['feature'].tolist()\n",
    "        return X_train_selected, feature_selected, feature_importance\n",
    "    elif method == 'percentile':\n",
    "        percentile = kwargs.get('percentile', 0.75)\n",
    "        threshold = feature_importance['importance'].quantile(percentile)\n",
    "        X_train_selected = feature_importance[feature_importance['importance'] > threshold]\n",
    "        feature_selected = X_train_selected['feature'].tolist()\n",
    "        return X_train_selected, feature_selected, feature_importance\n",
    "    elif method == 'stable':\n",
    "        mean_importance = feature_importance['importance'].mean()\n",
    "        threshold = kwargs.get('threshold', 0.01)\n",
    "        X_train_selected = feature_importance[(feature_importance['std'] < threshold) & \n",
    "                                              (feature_importance['importance'] > mean_importance)]  # 标准差小于阈值且重要性大于均值的特征\n",
    "        feature_selected = X_train_selected['feature'].tolist()\n",
    "        return X_train_selected, feature_selected, feature_importance\n",
    "    else:\n",
    "        return feature_importance"
   ]
  },
  {
   "cell_type": "markdown",
   "id": "df0d931a",
   "metadata": {},
   "source": [
    "#### 2.SelectKBest"
   ]
  },
  {
   "cell_type": "markdown",
   "id": "4c942058",
   "metadata": {},
   "source": [
    "**注意：SelectKBest是一种无监督的特征选择方法，它基于统计检验，不依赖于训练好的模型，因此超参数K可以一起跟随模型的超参数一起优化**"
   ]
  },
  {
   "cell_type": "markdown",
   "id": "d23109d6",
   "metadata": {},
   "source": [
    "### 四、超参数优化"
   ]
  },
  {
   "cell_type": "markdown",
   "id": "b617e470",
   "metadata": {},
   "source": [
    "#### 1.GridSearchCV"
   ]
  },
  {
   "cell_type": "code",
   "execution_count": 7,
   "id": "8ea2d18c",
   "metadata": {},
   "outputs": [],
   "source": [
    "# 在这一步中同时进行selectKBest的优化和模型超参数的优化\n",
    "def grid_search_cv(model, X_train, y_train, param_grid, n_splits=5, scoring='accuracy'):\n",
    "    '''\n",
    "    网格搜索超参数优化函数(交叉验证策略为StratifiedKFold)\n",
    "    我们在这个函数中同时进行selectKBest的优化和模型超参数的优化，selectKBest的评分函数为f_classif。\n",
    "    参数：\n",
    "        model: 机器学习模型\n",
    "        X_train: 训练集特征\n",
    "        y_train: 训练集标签\n",
    "        param_grid: 与模型对应的超参数网格\n",
    "        n_splits: 交叉验证的折数,默认为5\n",
    "        scoring: 评分标准,默认为accuracy\n",
    "    返回：\n",
    "        best_model: 最优模型\n",
    "        best_params: 最优超参数\n",
    "        selected_features: 选择的特征\n",
    "    '''\n",
    "    pipeline = Pipeline([\n",
    "        ('selector', SelectKBest(score_func=f_classif)),\n",
    "        ('model', model(random_state=123))\n",
    "    ])\n",
    "    grid_search = GridSearchCV(pipeline, param_grid, \n",
    "                               cv=StratifiedKFold(n_splits=n_splits, random_state=123, shuffle=True), \n",
    "                               scoring=scoring,\n",
    "                               n_jobs=-1,\n",
    "                               verbose=0)\n",
    "    grid_search.fit(X_train, y_train)\n",
    "\n",
    "    # 获取选择的特征\n",
    "    selected_features = X_train.columns[grid_search.best_estimator_.named_steps['selector'].get_support()].tolist()\n",
    "\n",
    "    # 获取最优模型\n",
    "    best_model = grid_search.best_estimator_\n",
    "\n",
    "    # 获取最优超参数\n",
    "    best_params = grid_search.best_params_\n",
    "    \n",
    "    # 输出最优得分\n",
    "    print(f\"最优得分: {grid_search.best_score_}\")\n",
    "    return best_model, best_params, selected_features"
   ]
  },
  {
   "cell_type": "markdown",
   "id": "f46671ae",
   "metadata": {},
   "source": [
    "#### 2.BayesSearchCV"
   ]
  },
  {
   "cell_type": "code",
   "execution_count": 8,
   "id": "b47c9d8c",
   "metadata": {},
   "outputs": [],
   "source": [
    "def bayes_search_cv(model, X_train, y_train, param_grid, n_splits=5, scoring='accuracy'):\n",
    "    '''\n",
    "    贝叶斯搜索超参数优化函数(交叉验证策略为StratifiedKFold)\n",
    "    参数：\n",
    "        model: 机器学习模型\n",
    "        X_train: 训练集特征\n",
    "        y_train: 训练集标签\n",
    "        param_grid: 与模型对应的超参数网格\n",
    "        n_splits: 交叉验证的折数,默认为5\n",
    "        scoring: 评分标准,默认为accuracy\n",
    "    返回：\n",
    "        best_model: 最优模型\n",
    "        best_params: 最优超参数\n",
    "    '''\n",
    "    bayes_search = BayesSearchCV(model(random_state=123), param_grid, \n",
    "                                cv=StratifiedKFold(n_splits=n_splits, random_state=123, shuffle=True), \n",
    "                                scoring=scoring,\n",
    "                                n_jobs=-1,\n",
    "                                verbose=0)\n",
    "    bayes_search.fit(X_train, y_train)\n",
    "\n",
    "    # 获取最优模型\n",
    "    best_model = bayes_search.best_estimator_\n",
    "\n",
    "    # 获取最优超参数\n",
    "    best_params = bayes_search.best_params_\n",
    "    \n",
    "    # 输出最优得分\n",
    "    print(f\"最优得分: {bayes_search.best_score_}\")\n",
    "    return best_model, best_params\n"
   ]
  },
  {
   "cell_type": "markdown",
   "id": "116c200a",
   "metadata": {},
   "source": [
    "特征选择和超参数优化的执行步骤：\n",
    "\n",
    "SelectKBest (第一步)\n",
    "原因：这是无监督的特征选择方法，不依赖于训练好的模型\n",
    "作用：快速筛选出最重要的K个特征，减少后续计算复杂度\n",
    "优势：基于统计检验，计算快速，可以与其他超参数一起优化\n",
    "\n",
    "GridSearchCV (第二步)\n",
    "原因：在特征选择后进行超参数优化\n",
    "作用：对模型的主要超参数进行网格搜索\n",
    "建议：优化那些离散的、搜索范围较小的超参数（如n_estimators, max_depth等）\n",
    "\n",
    "BayesSearchCV (第三步)\n",
    "原因：在GridSearchCV的基础上进一步精细调优\n",
    "作用：对连续参数或大范围参数进行贝叶斯优化\n",
    "建议：优化那些连续的、搜索范围较大的超参数（如learning_rate, regularization参数等）\n",
    "\n",
    "Permutation Feature Importance (PFS) (第四步)\n",
    "原因：这是有监督的特征选择方法，需要训练好的模型\n",
    "作用：基于已优化模型的特征重要性进行最终特征筛选\n",
    "优势：可以进一步剔除不重要的特征，提高模型泛化能力"
   ]
  }
 ],
 "metadata": {
  "kernelspec": {
   "display_name": "data_mining",
   "language": "python",
   "name": "python3"
  },
  "language_info": {
   "codemirror_mode": {
    "name": "ipython",
    "version": 3
   },
   "file_extension": ".py",
   "mimetype": "text/x-python",
   "name": "python",
   "nbconvert_exporter": "python",
   "pygments_lexer": "ipython3",
   "version": "3.9.23"
  }
 },
 "nbformat": 4,
 "nbformat_minor": 5
}
